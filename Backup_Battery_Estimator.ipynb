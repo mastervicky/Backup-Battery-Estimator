{
 "cells": [
  {
   "cell_type": "markdown",
   "id": "cc2fdba5",
   "metadata": {
    "notebookRunGroups": {
     "groupValue": "1"
    }
   },
   "source": [
    "# BACKUP BATTERY ESTIMATOR"
   ]
  },
  {
   "cell_type": "code",
   "execution_count": null,
   "id": "9e3a1cef",
   "metadata": {},
   "outputs": [],
   "source": [
    "%pip install fpdf\n",
    "\n",
    "import streamlit as st\n",
    "import pandas as pd\n",
    "import matplotlib.pyplot as plt\n",
    "from io import BytesIO\n",
    "from fpdf import FPDF\n",
    "\n",
    "st.set_page_config(page_title=\"Battery Backup Estimator\", layout=\"wide\")\n",
    "\n",
    "st.title(\"Battery Backup Capacity Estimator\")\n",
    "st.markdown(\"Estimate required battery capacity for households or industrial use based on realistic parameters.\")\n"
   ]
  },
  {
   "cell_type": "markdown",
   "id": "390bc971",
   "metadata": {},
   "source": [
    "User Iputs"
   ]
  },
  {
   "cell_type": "code",
   "execution_count": null,
   "id": "2c0613a1",
   "metadata": {},
   "outputs": [],
   "source": [
    "# User Inputs\n",
    "st.sidebar.header(\"User Inputs\")\n",
    "\n",
    "application_type = st.sidebar.selectbox(\"Application Type\", [\"Household\", \"Industrial\"])\n",
    "load_entries = st.sidebar.number_input(\"Number of appliances/machines\", min_value=1, max_value=50, value=5)\n",
    "\n",
    "st.sidebar.markdown(\"---\")\n",
    "st.sidebar.subheader(\"Backup & System Parameters\")\n",
    "backup_hours = st.sidebar.number_input(\"Desired Backup Duration (hrs)\", 1, 48, value=6)\n",
    "autonomy_days = st.sidebar.number_input(\"Days of Autonomy (off-grid)\", 1, 7, value=1)\n",
    "battery_voltage = st.sidebar.selectbox(\"Battery Bank Voltage (V)\", [12, 24, 48], index=2)\n",
    "battery_efficiency = st.sidebar.slider(\"Battery Efficiency (%)\", 70, 100, value=90)"
   ]
  },
  {
   "cell_type": "markdown",
   "id": "e39d3aa4",
   "metadata": {},
   "source": [
    "Appliances Inputs"
   ]
  },
  {
   "cell_type": "code",
   "execution_count": null,
   "id": "7f52c9ca",
   "metadata": {},
   "outputs": [],
   "source": [
    "# Appliance Inputs\n",
    "st.subheader(\"🔌 Load/Appliance Details\")\n",
    "\n",
    "appliance_data = []\n",
    "for i in range(load_entries):\n",
    "    col1, col2, col3 = st.columns(3)\n",
    "    name = col1.text_input(f\"Appliance {i+1} Name\", value=f\"Load {i+1}\")\n",
    "    power = col2.number_input(f\"Power (W) for {name}\", min_value=1.0, value=100.0, key=f\"power{i}\")\n",
    "    usage = col3.number_input(f\"Hours/Day for {name}\", min_value=0.1, value=4.0, key=f\"usage{i}\")\n",
    "    appliance_data.append({\"Appliance\": name, \"Power_W\": power, \"Hours_Per_Day\": usage})\n",
    "\n",
    "df = pd.DataFrame(appliance_data)\n",
    "df[\"Energy_Wh_Per_Day\"] = df[\"Power_W\"] * df[\"Hours_Per_Day\"]\n",
    "total_energy_wh = df[\"Energy_Wh_Per_Day\"].sum()\n",
    "required_capacity_Wh = (total_energy_wh * autonomy_days) / (battery_efficiency / 100)\n",
    "required_capacity_Ah = required_capacity_Wh / battery_voltage\n",
    "\n",
    "st.write(\"### 🔍 Energy Consumption Summary\")\n",
    "st.dataframe(df, use_container_width=True)\n",
    "st.success(f\"Total Daily Load: {total_energy_wh:.2f} Wh\")\n",
    "st.success(f\"Required Battery Capacity: {required_capacity_Wh:.2f} Wh / {required_capacity_Ah:.2f} Ah @ {battery_voltage}V\")\n"
   ]
  },
  {
   "cell_type": "markdown",
   "id": "1c30eb9d",
   "metadata": {},
   "source": [
    "Ploting the Load Distribution Chart"
   ]
  },
  {
   "cell_type": "code",
   "execution_count": null,
   "id": "872a6653",
   "metadata": {},
   "outputs": [],
   "source": [
    "# Plot\n",
    "st.write(\"### Load Distribution Chart\")\n",
    "fig, ax = plt.subplots(figsize=(8, 4))\n",
    "df.plot(kind='bar', x='Appliance', y='Energy_Wh_Per_Day', ax=ax, legend=False, color=\"orange\")\n",
    "ax.set_ylabel(\"Energy (Wh)\")\n",
    "st.pyplot(fig)"
   ]
  },
  {
   "cell_type": "markdown",
   "id": "97829584",
   "metadata": {},
   "source": [
    "Excel Export"
   ]
  },
  {
   "cell_type": "code",
   "execution_count": null,
   "id": "733b16a9",
   "metadata": {},
   "outputs": [],
   "source": [
    "%pip install xlsxwriter\n",
    "\n",
    "# Excel Export\n",
    "def to_excel(dataframe):\n",
    "    output = BytesIO()\n",
    "    with pd.ExcelWriter(output, engine='xlsxwriter') as writer:\n",
    "        dataframe.to_excel(writer, index=False, sheet_name=\"Load Data\")\n",
    "        workbook = writer.book\n",
    "        worksheet = writer.sheets[\"Load Data\"]\n",
    "        worksheet.write(\"G2\", \"Total Daily Load (Wh)\")\n",
    "        worksheet.write(\"G3\", total_energy_wh)\n",
    "        worksheet.write(\"G4\", \"Battery Capacity Needed (Ah)\")\n",
    "        worksheet.write(\"G5\", required_capacity_Ah)\n",
    "        writer.save()\n",
    "    return output.getvalue()\n",
    "\n",
    "excel_data = to_excel(df)\n",
    "st.download_button(\"Download Excel Report\", data=excel_data, file_name=\"battery_capacity_report.xlsx\")"
   ]
  },
  {
   "cell_type": "markdown",
   "id": "424c2dd0",
   "metadata": {},
   "source": [
    "PDF Export"
   ]
  },
  {
   "cell_type": "code",
   "execution_count": null,
   "id": "fc47b948",
   "metadata": {},
   "outputs": [],
   "source": [
    "# PDF Export\n",
    "def generate_pdf():\n",
    "    pdf = FPDF()\n",
    "    pdf.add_page()\n",
    "    pdf.set_font(\"Arial\", size=12)\n",
    "    pdf.cell(200, 10, txt=\"Battery Capacity Estimation Report\", ln=True, align=\"C\")\n",
    "    pdf.ln(10)\n",
    "    for index, row in df.iterrows():\n",
    "        pdf.cell(200, 10, txt=f\"{row['Appliance']} - {row['Power_W']}W x {row['Hours_Per_Day']}hrs = {row['Energy_Wh_Per_Day']:.2f}Wh\", ln=True)\n",
    "    pdf.ln(10)\n",
    "    pdf.cell(200, 10, txt=f\"Total Daily Energy Consumption: {total_energy_wh:.2f} Wh\", ln=True)\n",
    "    pdf.cell(200, 10, txt=f\"Required Battery Capacity: {required_capacity_Ah:.2f} Ah @ {battery_voltage}V\", ln=True)\n",
    "    pdf.ln(10)\n",
    "    pdf_bytes = pdf.output(dest='S').encode('latin-1')\n",
    "    return pdf_bytes\n",
    "\n",
    "pdf_data = generate_pdf()\n",
    "st.download_button(\"Download PDF Report\", data=pdf_data, file_name=\"battery_report.pdf\", mime=\"application/pdf\")\n",
    "\n",
    "st.markdown(\"---\")\n",
    "st.caption(\"Developed by Victor | Streamlit + Python | v1.0\")\n",
    "# This code is a Streamlit application that estimates battery backup capacity based on user inputs for appliances and system parameters.\n",
    "# It allows users to input appliance details, calculates total energy consumption, and provides options to download"
   ]
  }
 ],
 "metadata": {
  "kernelspec": {
   "display_name": ".venv",
   "language": "python",
   "name": "python3"
  },
  "language_info": {
   "codemirror_mode": {
    "name": "ipython",
    "version": 3
   },
   "file_extension": ".py",
   "mimetype": "text/x-python",
   "name": "python",
   "nbconvert_exporter": "python",
   "pygments_lexer": "ipython3",
   "version": "3.13.5"
  }
 },
 "nbformat": 4,
 "nbformat_minor": 5
}
